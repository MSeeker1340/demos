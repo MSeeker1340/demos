{
 "cells": [
  {
   "cell_type": "markdown",
   "metadata": {},
   "source": [
    "# Draft for a New DiffEqOperator Interface\n",
    "\n",
    "The basic idea is instead of implementing operators as `LinearMap` (which is incorrect for affine and quasilinear operators anyways), we mimic the internals of LinearMaps.jl and construct a similar type hierarchy `DiffEqOperator`, which is like an expanded version of `LinearMap`.\n",
    "\n",
    "The most general form of a `DiffEqOperator` should look like\n",
    "\n",
    "$$ L(u,p,t)= A_{11}(u,p,t)A_{12}(u,p,t)\\ldots A_{1n_1}(u,p,t)u + \\ldots + A_{m1}(u,p,t)A_{m2}(u,p,t)\\ldots A_{mn_m}(u,p,t)u + b(u,p,t) $$\n",
    "\n",
    "where each $A_{ij}$ are themselves built up the same way recursively, with the fundamental building blocks being the identity, array and derivative operators. When the affine term $b(u,p,t) = 0$, $L$ is a quasilinear operator as it acts like a linear operator but in fact depends on $u$ (a specific example would be the nonlinear Hamiltonian from density functional theory).\n",
    "\n",
    "Apart from the interfaces for a (quasi)linear operator (operator arithmetic, `eltype`, `size`, `A_mul_B!`, ...), functionalities specific to `JuliaDiffEq` include:\n",
    "\n",
    "- Efficient representations (`as_array`) for converting the stencil operators to arrays of the most suitable form.\n",
    "\n",
    "    - Both `full` and `sparse` enforce one either the full or sparse form, so we need another method that returns the most \"appropriate\" form.\n",
    "\n",
    "- Time-dependent operators via the `update_coefficients!` interface.\n",
    "\n",
    "    - Basic types include an `update_func` field to handle their own updates;\n",
    "    \n",
    "    - Composite types (compositions and combinations) call `update_coefficients!` recursively.\n",
    "\n",
    "- `L(u,p,t)` and `L(du,u,p,t)` functor signature (for use with generic or Krylov ODE solvers).\n",
    "\n",
    "    - Should always call `update_coefficients!` first;\n",
    "\n",
    "    - The methods are defined using the \"unsafe\" `L*u` and `A_mul_B!(du,L,u)` methods defined separately for each type.\n",
    "\n",
    "## Notes/TODO\n",
    "\n",
    "- The current implementations are scattered in both DiffEqBase and DiffEqOperators. Should probably move everything inside DiffEqOperators.\n",
    "\n",
    "- Need to be careful with scalar equations (e.g. in-place style would not be valid).\n",
    "\n",
    "- Need to consider how `StaticArrays` fit.\n",
    "\n",
    "- Probably need some convenient functors to use as update functions.\n",
    "\n",
    "- Iterator interface for `DiffEqCompositeOperator` and `DiffEqOperatorCombination`."
   ]
  },
  {
   "cell_type": "code",
   "execution_count": 1,
   "metadata": {},
   "outputs": [],
   "source": [
    "import Base: +, -, *, /, A_mul_B!, eltype, size\n",
    "\n",
    "abstract type DiffEqOperator{T} end\n",
    "eltype(::DiffEqOperator{T}) where {T} = T\n",
    "size(L::DiffEqOperator, k::Int) = k <= 2 ? size(L)[k] : 1 # size(L) is defined separately for each subtype\n",
    "\n",
    "# The default update function is defined as a functor for easier type dispatching\n",
    "# For example, DiffEqConstOpCombination below\n",
    "struct DefaultUpdateFunc end\n",
    "(::DefaultUpdateFunc)(A,u,p,t) = nothing"
   ]
  },
  {
   "cell_type": "markdown",
   "metadata": {},
   "source": [
    "# Basic operators\n",
    "\n",
    "## Array operators (`WrappedMap` in LinearMaps.jl)\n",
    "\n",
    "Instead of allowing both arrays and scalars, `DiffEqArrayOperator` should only accept arrays for easier handling (one reason among others being `A_mul_B!`, which isn't defined for scalars). The internal scalar coefficient is also dropped in favor of `DiffEqOperatorCombination`. Other than that the interface is basically the same as the current implementation."
   ]
  },
  {
   "cell_type": "code",
   "execution_count": 2,
   "metadata": {},
   "outputs": [],
   "source": [
    "struct DiffEqArrayOperator{T,Arr,F} <: DiffEqOperator{T}\n",
    "    A::Arr\n",
    "    update_func::F\n",
    "end\n",
    "DiffEqArrayOperator(A::AbstractMatrix, update_func=DefaultUpdateFunc()) = \n",
    "    DiffEqArrayOperator{eltype(A),typeof(A),typeof(update_func)}(A, update_func)\n",
    "update_coefficients!(L::DiffEqArrayOperator,u,p,t) = L.update_func(L.A,u,p,t)\n",
    "size(L::DiffEqArrayOperator) = size(L.A)\n",
    "\n",
    "# Application\n",
    "*(L::DiffEqArrayOperator, u::AbstractVector) = L.A * u\n",
    "A_mul_B!(y::AbstractVector, L::DiffEqArrayOperator, x::AbstractVector) = A_mul_B!(y, L.A, x)\n",
    "\n",
    "# Representation\n",
    "as_array(L::DiffEqArrayOperator) = L.A;"
   ]
  },
  {
   "cell_type": "markdown",
   "metadata": {},
   "source": [
    "## Identity operators (`IdentityMap` in LinearMaps.jl)\n",
    "\n",
    "They are mainly for right hand side terms of the from $a(t)u$, which we interpret as $(a(t)I)u$. The scalar coefficient part is handled by `DiffEqOperatorCombination`.\n",
    "\n",
    "In accordance with the `size` interface of other operators, we need to explicitly provide the dimension in the constructor."
   ]
  },
  {
   "cell_type": "code",
   "execution_count": 3,
   "metadata": {},
   "outputs": [],
   "source": [
    "struct DiffEqIdOperator{T} <: DiffEqOperator{T}\n",
    "    M::Int\n",
    "end\n",
    "update_coefficients!(L::DiffEqIdOperator,u,p,t) = nothing\n",
    "size(L::DiffEqIdOperator) = (L.M, L.M)\n",
    "\n",
    "# Application\n",
    "*(L::DiffEqIdOperator, u) = u\n",
    "A_mul_B!(y, L::DiffEqIdOperator, x) = copy!(y, x)\n",
    "\n",
    "# Representation\n",
    "as_array(L::DiffEqIdOperator{T}) where {T} = Diagonal(ones(T, L.M, L.M));"
   ]
  },
  {
   "cell_type": "markdown",
   "metadata": {},
   "source": [
    "## Derivative Operators\n",
    "\n",
    "The definition of derivative operators should remain mostly unchanged except for `as_array`."
   ]
  },
  {
   "cell_type": "markdown",
   "metadata": {},
   "source": [
    "# Operators built upon the basic operators\n",
    "\n",
    "## Compositions (`CompositeMap` in LinearMaps.jl)\n",
    "\n",
    "The `DiffEqCompositeOperator` type is basically a tuple of `DiffEqOperator`. The operators are stored in the order of application, so `L1*L2*L3` is stored as `(L3,L2,L1)`.\n",
    "\n",
    "What's different from `CompositeMap` is that a series of intermediate caches is allocated a priori to avoid the need to allocate memory during `A_mul_B!`.\n",
    "\n",
    "TODO: \n",
    "\n",
    "- Check dimension mismatch errors.\n",
    "\n",
    "- Allow for custom array types for the caches (adding a `u_prototype` argument to the constructor?)."
   ]
  },
  {
   "cell_type": "code",
   "execution_count": 4,
   "metadata": {},
   "outputs": [],
   "source": [
    "struct DiffEqCompositeOperator{T} <: DiffEqOperator{T}\n",
    "    ops::Tuple{Vararg{DiffEqOperator{T}}}\n",
    "    caches::Vector{Vector{T}}\n",
    "end\n",
    "function DiffEqCompositeOperator(ops::DiffEqOperator{T}...) where {T}\n",
    "    # Initialize the intermediate caches\n",
    "    caches = Vector{Vector{T}}()\n",
    "    for op in ops[1:end-1]\n",
    "        c = Vector{T}(size(op, 1))\n",
    "        push!(caches, c)\n",
    "    end\n",
    "    DiffEqCompositeOperator{T}(ops, caches)\n",
    "end\n",
    "update_coefficients!(L::DiffEqCompositeOperator,u,p,t) = foreach(op -> update_coefficients!(op,u,p,t), L.ops)\n",
    "size(L::DiffEqCompositeOperator) = (size(L.ops[end], 1), size(L.ops[1], 2))\n",
    "\n",
    "# Application\n",
    "*(L::DiffEqCompositeOperator, u) = foldl((x, op) -> op*x, u, L.ops) # should we define this using A_mul_B! ?\n",
    "function A_mul_B!(y, L::DiffEqCompositeOperator, x)\n",
    "    N = length(L.ops)\n",
    "    if N == 1\n",
    "        A_mul_B!(y, L.ops[1], x)\n",
    "    else\n",
    "        A_mul_B!(L.caches[1], L.ops[1], x)\n",
    "        for i in 2:N-1\n",
    "            A_mul_B!(L.caches[i], L.ops[i], L.caches[i-1])\n",
    "        end\n",
    "        A_mul_B!(y, L.ops[end], L.caches[end])\n",
    "    end\n",
    "end\n",
    "\n",
    "# Representation\n",
    "as_array(L::DiffEqCompositeOperator) = prod(as_array, reverse(L.ops));"
   ]
  },
  {
   "cell_type": "markdown",
   "metadata": {},
   "source": [
    "## Linear Combinations (`LinearCombination` in LinearMaps.jl)\n",
    "\n",
    "Like `LinearCombination` (and unlike the `AffineDiffEqOperator` in DiffEqBase.jl), coefficients are explicitly included. The rationale is that operations involving scalars can usually be optimized. The alternative method would be to implement a `DiffEqScalarOperator` type and treat `c_1*A + c_2*B` as a combination of two composite operators `c_1*A` and `c_2*B`.\n",
    "\n",
    "The coefficients are implemented as vectors instead of tuples so that they can be mutated by the update function (will this cause a performance issue?)\n",
    "\n",
    "As with the case of composite operators, a cache is used to speed up `A_mul_B!`."
   ]
  },
  {
   "cell_type": "code",
   "execution_count": 5,
   "metadata": {},
   "outputs": [],
   "source": [
    "struct DiffEqOperatorCombination{T,F} <: DiffEqOperator{T}\n",
    "    ops::Tuple{Vararg{DiffEqOperator{T}}}\n",
    "    coeffs::Vector{T}\n",
    "    cache::Vector{T}\n",
    "    update_func::F\n",
    "end\n",
    "function DiffEqOperatorCombination(ops::Tuple{Vararg{DiffEqOperator{T}}}, coeffs=nothing, \n",
    "        update_func=DefaultUpdateFunc()) where {T}\n",
    "    if coeffs == nothing\n",
    "        coeffs = ones(T, length(ops))\n",
    "    else\n",
    "        coeffs = collect(coeffs) # make sure is array\n",
    "    end\n",
    "    cache = Vector{T}(size(ops[1], 1))\n",
    "    DiffEqOperatorCombination{T,typeof(update_func)}(ops, coeffs, cache, update_func)\n",
    "end\n",
    "function update_coefficients!(L::DiffEqOperatorCombination,u,p,t)\n",
    "    L.update_func(L.coeffs,u,p,t)\n",
    "    for op in L.ops\n",
    "        update_coefficients!(op,u,p,t)\n",
    "    end\n",
    "end\n",
    "size(L::DiffEqOperatorCombination) = size(L.ops[1])\n",
    "\n",
    "# Application\n",
    "*(L::DiffEqOperatorCombination, u) = sum(c * (op * u) for (c,op) in zip(L.coeffs,L.ops))\n",
    "function A_mul_B!(y, L::DiffEqOperatorCombination{T}, x) where {T}\n",
    "    A_mul_B!(y, L.ops[1], x)\n",
    "    L.coeffs[1] == one(T) || scale!(L.coeffs[1], y) # is this necessary?\n",
    "    for (c,op) in zip(L.coeffs[2:end], L.ops[2:end])\n",
    "        A_mul_B!(L.cache, op, x)\n",
    "        if c == one(T)\n",
    "            y .+= L.cache\n",
    "        else\n",
    "            @. y += c * L.cache\n",
    "            # Base.axpy!(c, L.cache, y) # better?\n",
    "        end\n",
    "    end\n",
    "    return y\n",
    "end\n",
    "\n",
    "# Representation\n",
    "as_array(L::DiffEqOperatorCombination) = sum(i -> L.coeffs[i] * as_array(L.ops[i]), 1:length(L.ops));"
   ]
  },
  {
   "cell_type": "markdown",
   "metadata": {},
   "source": [
    "## Affine operator"
   ]
  },
  {
   "cell_type": "code",
   "execution_count": 6,
   "metadata": {},
   "outputs": [],
   "source": [
    "struct DiffEqAffineOperator{T,F} <: DiffEqOperator{T}\n",
    "    A::DiffEqOperator{T}\n",
    "    b::AbstractVector{T}\n",
    "    update_func::F\n",
    "end\n",
    "DiffEqAffineOperator(A::DiffEqOperator{T}, b::AbstractVector{T}, update_func=DefaultUpdateFunc()) where {T} = \n",
    "    DiffEqAffineOperator{T,typeof(update_func)}(A,b,update_func)\n",
    "update_coefficients!(L::DiffEqAffineOperator,u,p,t) = (update_coefficients!(A,u,p,t); L.update_func(b,u,p,t))\n",
    "size(L::DiffEqAffineOperator) = size(L.A)\n",
    "\n",
    "# Application\n",
    "*(L::DiffEqAffineOperator, u) = L.A * u + b\n",
    "A_mul_B!(y, L::DiffEqAffineOperator, x) = (A_mul_B!(y,L.A,x); y .+= b)\n",
    "\n",
    "# Representation\n",
    "# Ax + b == [A b] * [x;1]\n",
    "as_array(L::DiffEqAffineOperator) = hcat(as_array(L.A), b);"
   ]
  },
  {
   "cell_type": "markdown",
   "metadata": {},
   "source": [
    "## Operator arithmetics\n",
    "\n",
    "Arithmetics on linear combinations with non-constant coefficients are a bit tricky (though not impossible). The constant version is easy and we can dispatch types using the `UnionAll` type definition feature."
   ]
  },
  {
   "cell_type": "code",
   "execution_count": 7,
   "metadata": {},
   "outputs": [
    {
     "data": {
      "text/plain": [
       "DiffEqOperatorCombination{T,DefaultUpdateFunc} where T"
      ]
     },
     "execution_count": 7,
     "metadata": {},
     "output_type": "execute_result"
    }
   ],
   "source": [
    "const DiffEqConstOpCombination = DiffEqOperatorCombination{T,DefaultUpdateFunc} where {T}"
   ]
  },
  {
   "cell_type": "code",
   "execution_count": 8,
   "metadata": {},
   "outputs": [],
   "source": [
    "# op + op\n",
    "+(L1::DiffEqConstOpCombination{T}, L2::DiffEqConstOpCombination{T}) where {T} = DiffEqOperatorCombination(\n",
    "    tuple(L1.ops..., L2.ops...), vcat(L1.coeffs, L2.coeffs))\n",
    "+(L1::DiffEqConstOpCombination{T}, L2::DiffEqOperator{T}) where {T} = DiffEqOperatorCombination(\n",
    "    tuple(L1.ops..., L2), vcat(L1.coeffs, one(T)))\n",
    "+(L1::DiffEqOperator{T}, L2::DiffEqConstOpCombination{T}) where {T} = DiffEqOperatorCombination(\n",
    "    tuple(L1, L2.ops...), vcat(one(T), L2.coeffs))\n",
    "+(L1::DiffEqOperator{T}, L2::DiffEqOperator{T}) where {T} = DiffEqOperatorCombination((L1,L2), ones(T,2))\n",
    "\n",
    "# scalar * op and op * scalar\n",
    "*(a::T, L::DiffEqConstOpCombination{T}) where {T} = DiffEqOperatorCombination(L.ops, a*L.coeffs)\n",
    "*(L::DiffEqConstOpCombination{T}, a::T) where {T} = DiffEqOperatorCombination(L.ops, a*L.coeffs)\n",
    "*(a::T, L::DiffEqOperator{T}) where {T} = DiffEqOperatorCombination((L,), (a,))\n",
    "*(L::DiffEqOperator{T}, a::T) where {T} = DiffEqOperatorCombination((L,), (a,))\n",
    "\n",
    "# op * op\n",
    "# Note the application order\n",
    "*(L1::DiffEqCompositeOperator{T}, L2::DiffEqCompositeOperator{T}) where {T} = DiffEqCompositeOperator(L2.ops..., L1.ops...)\n",
    "*(L1::DiffEqOperator{T}, L2::DiffEqCompositeOperator{T}) where {T} = DiffEqCompositeOperator(L2.ops..., L1)\n",
    "*(L1::DiffEqCompositeOperator{T}, L2::DiffEqOperator{T}) where {T} = DiffEqCompositeOperator(L2, L1.ops...)\n",
    "*(L1::DiffEqOperator{T}, L2::DiffEqOperator{T}) where {T} = DiffEqCompositeOperator(L2, L1);"
   ]
  },
  {
   "cell_type": "markdown",
   "metadata": {},
   "source": [
    "# `L(u,p,t)` and `L(du,u,p,t)` Interface"
   ]
  },
  {
   "cell_type": "code",
   "execution_count": 9,
   "metadata": {},
   "outputs": [],
   "source": [
    "# Defining functors for abstract types is currently not supported in Julia\n",
    "# (L::DiffEqOperator)(u,p,t) = (update_coefficients!(L,u,p,t); L * u)\n",
    "# (L::DiffEqOperator)(du,u,p,t) = (update_coefficients!(L,u,p,t); A_mul_B!(du,L,u))\n",
    "\n",
    "# Instead, define for each subtype of DiffEqOperator\n",
    "for T in subtypes(DiffEqOperator)\n",
    "    (L::T)(u,p,t) = (update_coefficients!(L,u,p,t); L * u)\n",
    "    (L::T)(du,u,p,t) = (update_coefficients!(L,u,p,t); A_mul_B!(du,L,u))\n",
    "end"
   ]
  },
  {
   "cell_type": "markdown",
   "metadata": {},
   "source": [
    "# Example"
   ]
  },
  {
   "cell_type": "code",
   "execution_count": 10,
   "metadata": {},
   "outputs": [],
   "source": [
    "N = 5\n",
    "a = 2.0\n",
    "laplacian = spdiagm((ones(N-1), -2*ones(N), ones(N-1)), (-1,0,1))\n",
    "Lap = DiffEqArrayOperator(laplacian)\n",
    "A = a * DiffEqIdOperator{Float64}(N)\n",
    "L = Lap + A;"
   ]
  },
  {
   "cell_type": "code",
   "execution_count": 11,
   "metadata": {},
   "outputs": [
    {
     "name": "stdout",
     "output_type": "stream",
     "text": [
      "typeof(L) = DiffEqOperatorCombination{Float64,DefaultUpdateFunc}\n",
      "L.ops = (DiffEqArrayOperator{Float64,SparseMatrixCSC{Float64,Int64},DefaultUpdateFunc}(\n",
      "  [1, 1]  =  -2.0\n",
      "  [2, 1]  =  1.0\n",
      "  [1, 2]  =  1.0\n",
      "  [2, 2]  =  -2.0\n",
      "  [3, 2]  =  1.0\n",
      "  [2, 3]  =  1.0\n",
      "  [3, 3]  =  -2.0\n",
      "  [4, 3]  =  1.0\n",
      "  [3, 4]  =  1.0\n",
      "  [4, 4]  =  -2.0\n",
      "  [5, 4]  =  1.0\n",
      "  [4, 5]  =  1.0\n",
      "  [5, 5]  =  -2.0, DefaultUpdateFunc()), DiffEqIdOperator{Float64}(5))\n",
      "L.coeffs = [1.0, 2.0]\n"
     ]
    }
   ],
   "source": [
    "# Internals of L\n",
    "@show typeof(L)\n",
    "@show L.ops\n",
    "@show L.coeffs;"
   ]
  },
  {
   "cell_type": "code",
   "execution_count": 12,
   "metadata": {},
   "outputs": [
    {
     "data": {
      "text/plain": [
       "true"
      ]
     },
     "execution_count": 12,
     "metadata": {},
     "output_type": "execute_result"
    }
   ],
   "source": [
    "u = rand(5)\n",
    "p = nothing; t = 0.0\n",
    "laplacian * u + a * u ≈ L(u,p,t)"
   ]
  },
  {
   "cell_type": "code",
   "execution_count": 13,
   "metadata": {},
   "outputs": [
    {
     "data": {
      "text/plain": [
       "true"
      ]
     },
     "execution_count": 13,
     "metadata": {},
     "output_type": "execute_result"
    }
   ],
   "source": [
    "du = zeros(5)\n",
    "L(du,u,p,t)\n",
    "laplacian * u + a * u ≈ du"
   ]
  },
  {
   "cell_type": "code",
   "execution_count": 14,
   "metadata": {},
   "outputs": [
    {
     "data": {
      "text/plain": [
       "true"
      ]
     },
     "execution_count": 14,
     "metadata": {},
     "output_type": "execute_result"
    }
   ],
   "source": [
    "as_array(L) ≈ laplacian + a*I"
   ]
  },
  {
   "cell_type": "code",
   "execution_count": null,
   "metadata": {},
   "outputs": [],
   "source": []
  }
 ],
 "metadata": {
  "kernelspec": {
   "display_name": "Julia 0.6.2",
   "language": "julia",
   "name": "julia-0.6"
  },
  "language_info": {
   "file_extension": ".jl",
   "mimetype": "application/julia",
   "name": "julia",
   "version": "0.6.2"
  }
 },
 "nbformat": 4,
 "nbformat_minor": 2
}
